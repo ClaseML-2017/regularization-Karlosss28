{
 "cells": [
  {
   "cell_type": "markdown",
   "metadata": {},
   "source": [
    "# Regularization\n",
    "### Carlos Marcelo Barrera Nolasco\n",
    "### 101893"
   ]
  },
  {
   "cell_type": "code",
   "execution_count": 2,
   "metadata": {
    "collapsed": true
   },
   "outputs": [],
   "source": [
    "import pandas as pd\n",
    "import numpy as np\n",
    "from __future__ import division\n",
    "from sklearn import preprocessing\n",
    "from sklearn.model_selection import train_test_split\n",
    "from sklearn.linear_model import LinearRegression\n",
    "import matplotlib.pyplot as plt\n",
    "%matplotlib inline\n",
    "plt.rcParams['figure.figsize'] = (10.0, 6.0)"
   ]
  },
  {
   "cell_type": "markdown",
   "metadata": {},
   "source": [
    "## Funciones de ayuda"
   ]
  },
  {
   "cell_type": "code",
   "execution_count": 7,
   "metadata": {
    "collapsed": true
   },
   "outputs": [],
   "source": [
    "def calcError(X,Y,W):\n",
    "    return np.mean((np.transpose(Y)[0] - X.dot(W))**2)"
   ]
  },
  {
   "cell_type": "code",
   "execution_count": 8,
   "metadata": {
    "collapsed": true
   },
   "outputs": [],
   "source": [
    "def addX0(X):\n",
    "    ones = np.ones((len(X),1))\n",
    "    X = np.append(ones, X, axis=1)\n",
    "    return X"
   ]
  },
  {
   "cell_type": "markdown",
   "metadata": {},
   "source": [
    "## Función SGD regularizada"
   ]
  },
  {
   "cell_type": "code",
   "execution_count": 9,
   "metadata": {
    "collapsed": true
   },
   "outputs": [],
   "source": [
    "def SGD_reg(X,Y,W,eta,lbda,iters):\n",
    "    for j in range (0, iters):\n",
    "        for i in range(0, len(X)):\n",
    "            W = W+(eta*(Y[i][0]-(X[i].dot(W)))*X[i])-lbda*X[i]\n",
    "    return W"
   ]
  },
  {
   "cell_type": "markdown",
   "metadata": {},
   "source": [
    "## Leyendo los datos"
   ]
  },
  {
   "cell_type": "code",
   "execution_count": 3,
   "metadata": {
    "collapsed": true
   },
   "outputs": [],
   "source": [
    "df = pd.read_csv(\"../../Recursos/regLinPoli.csv\")"
   ]
  },
  {
   "cell_type": "code",
   "execution_count": 5,
   "metadata": {},
   "outputs": [],
   "source": [
    "X_train, X_test, Y_train, Y_test = train_test_split(df[df.columns[0:-1]],df[[df.columns[-1]]], train_size=0.75)"
   ]
  },
  {
   "cell_type": "code",
   "execution_count": 6,
   "metadata": {
    "collapsed": true
   },
   "outputs": [],
   "source": [
    "X_train = np.array(X_train)\n",
    "Y_train = np.array(Y_train)\n",
    "X_test = np.array(X_test)\n",
    "Y_test = np.array(Y_test)"
   ]
  },
  {
   "cell_type": "markdown",
   "metadata": {},
   "source": [
    "## Estandarizando Datos"
   ]
  },
  {
   "cell_type": "code",
   "execution_count": 10,
   "metadata": {
    "collapsed": true
   },
   "outputs": [],
   "source": [
    "scaler_X = preprocessing.StandardScaler().fit(X_train)\n",
    "X_train = scaler_X.transform(X_train)\n",
    "X_test = scaler_X.transform(X_test)"
   ]
  },
  {
   "cell_type": "code",
   "execution_count": 11,
   "metadata": {
    "collapsed": true
   },
   "outputs": [],
   "source": [
    "scaler_Y = preprocessing.StandardScaler().fit(Y_train)\n",
    "Y_train = scaler_Y.transform(Y_train)\n",
    "Y_test = scaler_Y.transform(Y_test)"
   ]
  },
  {
   "cell_type": "markdown",
   "metadata": {},
   "source": [
    "## Acondicionando datos (Añadir $X_0=1$)"
   ]
  },
  {
   "cell_type": "code",
   "execution_count": 13,
   "metadata": {
    "collapsed": true
   },
   "outputs": [],
   "source": [
    "X_test = addX0(X_test)\n",
    "X_train = addX0(X_train)"
   ]
  },
  {
   "cell_type": "markdown",
   "metadata": {},
   "source": [
    "## Entrenando el modelo para $\\eta=0.05$ con $\\lambda=0$ y $\\lambda=0.001$"
   ]
  },
  {
   "cell_type": "code",
   "execution_count": 14,
   "metadata": {
    "collapsed": true
   },
   "outputs": [],
   "source": [
    "W_init = np.random.rand(len(X_train[0]))*100"
   ]
  },
  {
   "cell_type": "code",
   "execution_count": 15,
   "metadata": {
    "collapsed": true
   },
   "outputs": [],
   "source": [
    "W_lambda_0 = SGD_reg(X_train, Y_train, W_init, 0.05, 0, 3)\n",
    "W_lambda_001 = SGD_reg(X_train, Y_train, W_init, 0.05, 0.001, 3)"
   ]
  },
  {
   "cell_type": "markdown",
   "metadata": {},
   "source": [
    "## Comparando los errores para los distintos W"
   ]
  },
  {
   "cell_type": "code",
   "execution_count": 16,
   "metadata": {},
   "outputs": [
    {
     "name": "stdout",
     "output_type": "stream",
     "text": [
      "1.73337736901 1.73624431409\n"
     ]
    }
   ],
   "source": [
    "error_lambda_0 = calcError(X_test, Y_test, W_lambda_0)\n",
    "error_lambda_001 = calcError(X_test, Y_test, W_lambda_001)\n",
    "\n",
    "print error_lambda_0, error_lambda_001"
   ]
  },
  {
   "cell_type": "markdown",
   "metadata": {},
   "source": [
    "## Gráfica del error cuadrático para varios valores de $\\lambda$"
   ]
  },
  {
   "cell_type": "code",
   "execution_count": 17,
   "metadata": {
    "collapsed": true
   },
   "outputs": [],
   "source": [
    "lambdas = np.linspace(0, 0.1, 101)"
   ]
  },
  {
   "cell_type": "code",
   "execution_count": 18,
   "metadata": {
    "collapsed": true
   },
   "outputs": [],
   "source": [
    "errors = []\n",
    "for lbda in lambdas:\n",
    "    W_aux = SGD_reg(X_train, Y_train, W_init, 0.05, lbda, 3)\n",
    "    errors.append(calcError(X_train, Y_train, W_aux))"
   ]
  },
  {
   "cell_type": "code",
   "execution_count": 19,
   "metadata": {},
   "outputs": [
    {
     "data": {
      "text/plain": [
       "<matplotlib.text.Text at 0x10f965690>"
      ]
     },
     "execution_count": 19,
     "metadata": {},
     "output_type": "execute_result"
    },
    {
     "data": {
      "image/png": "[encoded data removed]",
      "text/plain": [
       "<matplotlib.figure.Figure at 0x10ac4cb10>"
      ]
     },
     "metadata": {},
     "output_type": "display_data"
    }
   ],
   "source": [
    "plt.plot(lambdas, errors, color='red', linewidth=1)\n",
    "plt.title('Error against train set for different lambdas')\n",
    "plt.xlabel('Lambda')\n",
    "plt.ylabel('Quadratic error')"
   ]
  },
  {
   "cell_type": "code",
   "execution_count": 20,
   "metadata": {
    "collapsed": true
   },
   "outputs": [],
   "source": [
    "errors = []\n",
    "for lbda in lambdas:\n",
    "    W_aux = SGD_reg(X_test, Y_test, W_init, 0.05, lbda, 3)\n",
    "    errors.append(calcError(X_test, Y_test, W_aux))"
   ]
  },
  {
   "cell_type": "code",
   "execution_count": 21,
   "metadata": {},
   "outputs": [
    {
     "data": {
      "text/plain": [
       "<matplotlib.text.Text at 0x10fc566d0>"
      ]
     },
     "execution_count": 21,
     "metadata": {},
     "output_type": "execute_result"
    },
    {
     "data": {
      "image/png": "[encoded data removed]",
      "text/plain": [
       "<matplotlib.figure.Figure at 0x10f8827d0>"
      ]
     },
     "metadata": {},
     "output_type": "display_data"
    }
   ],
   "source": [
    "plt.plot(lambdas, errors, color='red', linewidth=1)\n",
    "plt.title('Error against test set for different lambdas')\n",
    "plt.xlabel('Lambda')\n",
    "plt.ylabel('Quadratic error')"
   ]
  },
  {
   "cell_type": "markdown",
   "metadata": {},
   "source": [
    "# Pruebas con el archivo regLinPoli2.csv"
   ]
  },
  {
   "cell_type": "markdown",
   "metadata": {},
   "source": [
    "## Leyendo los datos"
   ]
  },
  {
   "cell_type": "code",
   "execution_count": 22,
   "metadata": {
    "collapsed": true
   },
   "outputs": [],
   "source": [
    "df_2 = pd.read_csv(\"../../Recursos/regLinPoli2.csv\")"
   ]
  },
  {
   "cell_type": "code",
   "execution_count": 23,
   "metadata": {
    "collapsed": true
   },
   "outputs": [],
   "source": [
    "X_train_2, X_test_2, Y_train_2, Y_test_2 = train_test_split(df_2[df_2.columns[0:-1]],df_2[[df_2.columns[-1]]], train_size=0.75)"
   ]
  },
  {
   "cell_type": "code",
   "execution_count": 24,
   "metadata": {
    "collapsed": true
   },
   "outputs": [],
   "source": [
    "X_train_2 = np.array(X_train_2)\n",
    "Y_train_2 = np.array(Y_train_2)\n",
    "X_test_2 = np.array(X_test_2)\n",
    "Y_test_2 = np.array(Y_test_2)"
   ]
  },
  {
   "cell_type": "markdown",
   "metadata": {},
   "source": [
    "## Estandarizando Datos"
   ]
  },
  {
   "cell_type": "code",
   "execution_count": 25,
   "metadata": {
    "collapsed": true
   },
   "outputs": [],
   "source": [
    "scaler_X_2 = preprocessing.StandardScaler().fit(X_train_2)\n",
    "X_train_2 = scaler_X_2.transform(X_train_2)\n",
    "X_test_2 = scaler_X_2.transform(X_test_2)"
   ]
  },
  {
   "cell_type": "code",
   "execution_count": 26,
   "metadata": {
    "collapsed": true
   },
   "outputs": [],
   "source": [
    "scaler_Y_2 = preprocessing.StandardScaler().fit(Y_train_2)\n",
    "Y_train_2 = scaler_Y_2.transform(Y_train_2)\n",
    "Y_test_2 = scaler_Y_2.transform(Y_test_2)"
   ]
  },
  {
   "cell_type": "markdown",
   "metadata": {},
   "source": [
    "## Acondicionando datos (Añadir $X_0=1$)"
   ]
  },
  {
   "cell_type": "code",
   "execution_count": 27,
   "metadata": {
    "collapsed": true
   },
   "outputs": [],
   "source": [
    "X_test_2 = addX0(X_test_2)\n",
    "X_train_2 = addX0(X_train_2)"
   ]
  },
  {
   "cell_type": "markdown",
   "metadata": {},
   "source": [
    "## Entrenando el modelo para $\\eta=0.05$ con $\\lambda=0$ y $\\lambda=0.001$"
   ]
  },
  {
   "cell_type": "code",
   "execution_count": 29,
   "metadata": {
    "collapsed": true
   },
   "outputs": [],
   "source": [
    "W_init_2 = np.random.rand(len(X_train_2[0]))*100"
   ]
  },
  {
   "cell_type": "code",
   "execution_count": 30,
   "metadata": {
    "collapsed": true
   },
   "outputs": [],
   "source": [
    "W_lambda_0_2 = SGD_reg(X_train_2, Y_train_2, W_init_2, 0.05, 0, 3)\n",
    "W_lambda_001_2 = SGD_reg(X_train_2, Y_train_2, W_init_2, 0.05, 0.001, 3)"
   ]
  },
  {
   "cell_type": "markdown",
   "metadata": {},
   "source": [
    "## Comparando los W"
   ]
  },
  {
   "cell_type": "code",
   "execution_count": 31,
   "metadata": {},
   "outputs": [
    {
     "name": "stdout",
     "output_type": "stream",
     "text": [
      "30866.2586351 30860.9290047\n"
     ]
    }
   ],
   "source": [
    "error_lambda_0_2 = calcError(X_test_2, Y_test_2, W_lambda_0_2)\n",
    "error_lambda_001_2 = calcError(X_test_2, Y_test_2, W_lambda_001_2)\n",
    "\n",
    "print error_lambda_0_2, error_lambda_001_2"
   ]
  },
  {
   "cell_type": "markdown",
   "metadata": {},
   "source": [
    "## Gráfica del error cuadrático para varios valores de $\\lambda$"
   ]
  },
  {
   "cell_type": "code",
   "execution_count": 33,
   "metadata": {
    "collapsed": true
   },
   "outputs": [],
   "source": [
    "lambdas_2 = np.linspace(0, 0.5, 101)"
   ]
  },
  {
   "cell_type": "code",
   "execution_count": 34,
   "metadata": {
    "collapsed": true
   },
   "outputs": [],
   "source": [
    "errors_2 = []\n",
    "for lbda in lambdas_2:\n",
    "    W_aux = SGD_reg(X_train_2, Y_train_2, W_init_2, 0.05, lbda, 3)\n",
    "    errors_2.append(calcError(X_train_2, Y_train_2, W_aux))"
   ]
  },
  {
   "cell_type": "code",
   "execution_count": 35,
   "metadata": {},
   "outputs": [
    {
     "data": {
      "text/plain": [
       "<matplotlib.text.Text at 0x10fa7ab90>"
      ]
     },
     "execution_count": 35,
     "metadata": {},
     "output_type": "execute_result"
    },
    {
     "data": {
      "image/png": "[encoded data removed]",
      "text/plain": [
       "<matplotlib.figure.Figure at 0x10fced250>"
      ]
     },
     "metadata": {},
     "output_type": "display_data"
    }
   ],
   "source": [
    "plt.plot(lambdas_2, errors_2, color='red', linewidth=1)\n",
    "plt.title('Error against train set for different lambdas')\n",
    "plt.xlabel('Lambda')\n",
    "plt.ylabel('Quadratic error')"
   ]
  },
  {
   "cell_type": "code",
   "execution_count": 36,
   "metadata": {
    "collapsed": true
   },
   "outputs": [],
   "source": [
    "errors_2 = []\n",
    "for lbda in lambdas_2:\n",
    "    W_aux = SGD_reg(X_test_2, Y_test_2, W_init_2, 0.05, lbda, 3)\n",
    "    errors_2.append(calcError(X_test_2, Y_test_2, W_aux))"
   ]
  },
  {
   "cell_type": "code",
   "execution_count": 37,
   "metadata": {},
   "outputs": [
    {
     "data": {
      "text/plain": [
       "<matplotlib.text.Text at 0x10fc08e50>"
      ]
     },
     "execution_count": 37,
     "metadata": {},
     "output_type": "execute_result"
    },
    {
     "data": {
      "image/png": "[encoded data removed]",
      "text/plain": [
       "<matplotlib.figure.Figure at 0x10fcf8110>"
      ]
     },
     "metadata": {},
     "output_type": "display_data"
    }
   ],
   "source": [
    "plt.plot(lambdas_2, errors_2, color='red', linewidth=1)\n",
    "plt.title('Error against train set for different lambdas')\n",
    "plt.xlabel('Lambda')\n",
    "plt.ylabel('Quadratic error')"
   ]
  },
  {
   "cell_type": "markdown",
   "metadata": {},
   "source": [
    "# Minibatch"
   ]
  },
  {
   "cell_type": "markdown",
   "metadata": {},
   "source": [
    "## Leyendo los datos"
   ]
  },
  {
   "cell_type": "code",
   "execution_count": 38,
   "metadata": {
    "collapsed": true
   },
   "outputs": [],
   "source": [
    "df_3 = pd.read_csv(\"../../Recursos/regLin.csv\")"
   ]
  },
  {
   "cell_type": "code",
   "execution_count": 39,
   "metadata": {
    "collapsed": true
   },
   "outputs": [],
   "source": [
    "X_train_3, X_test_3, Y_train_3, Y_test_3 = train_test_split(df_3[[\"X\"]],df_3[[df_3.columns[1]]], train_size=0.75)"
   ]
  },
  {
   "cell_type": "code",
   "execution_count": 40,
   "metadata": {
    "collapsed": true
   },
   "outputs": [],
   "source": [
    "X_train_3 = np.array(X_train_3)\n",
    "Y_train_3 = np.array(Y_train_3)\n",
    "X_test_3 = np.array(X_test_3)\n",
    "Y_test_3 = np.array(Y_test_3)"
   ]
  },
  {
   "cell_type": "markdown",
   "metadata": {},
   "source": [
    "## Función SGD minibatch"
   ]
  },
  {
   "cell_type": "code",
   "execution_count": 41,
   "metadata": {
    "collapsed": true
   },
   "outputs": [],
   "source": [
    "def SGD_minibatch(X,Y,eta,frame,iters):\n",
    "    errors = []\n",
    "    W = np.random.rand(len(X[0]))*100\n",
    "    for j in range (0, iters):\n",
    "        for i in range(0, int(np.ceil(len(X)/ frame))):\n",
    "            idx = i*frame\n",
    "            X_aux = np.mean(X[idx:idx+frame], axis=0)\n",
    "            Y_aux = np.mean(Y[idx:idx+frame], axis=0)\n",
    "            W = W+eta*(Y_aux[0]-(X_aux.dot(W)))*X_aux\n",
    "            errors.append(calcError(X_aux,Y_aux,W))\n",
    "    return W, errors"
   ]
  },
  {
   "cell_type": "markdown",
   "metadata": {},
   "source": [
    "## Estandarizando datos"
   ]
  },
  {
   "cell_type": "code",
   "execution_count": 42,
   "metadata": {
    "collapsed": true
   },
   "outputs": [],
   "source": [
    "scaler_X_3 = preprocessing.StandardScaler().fit(X_train_3)\n",
    "X_train_3=scaler_X_3.transform(X_train_3)"
   ]
  },
  {
   "cell_type": "markdown",
   "metadata": {},
   "source": [
    "## Acondicionando datos (Añadir $X_0=1$)"
   ]
  },
  {
   "cell_type": "code",
   "execution_count": 44,
   "metadata": {
    "collapsed": true
   },
   "outputs": [],
   "source": [
    "X_train_3_ones = addX0(X_train_3)"
   ]
  },
  {
   "cell_type": "markdown",
   "metadata": {},
   "source": [
    "## Entrenando el modelo con datos estandarizados ($\\eta$ = 0.05, 5 iteraciones, batch size de 5)"
   ]
  },
  {
   "cell_type": "code",
   "execution_count": 49,
   "metadata": {
    "collapsed": true
   },
   "outputs": [],
   "source": [
    "W_final_3, errors_3 = SGD_minibatch(X_train_3_ones,Y_train_3,.05,5,5)"
   ]
  },
  {
   "cell_type": "markdown",
   "metadata": {},
   "source": [
    "## Gráfica del error cuadrático para cada W encontrada"
   ]
  },
  {
   "cell_type": "code",
   "execution_count": 50,
   "metadata": {
    "collapsed": true
   },
   "outputs": [],
   "source": [
    "steps = []\n",
    "for i in range (0, len(errors_3)):\n",
    "    steps.append(i+1)"
   ]
  },
  {
   "cell_type": "code",
   "execution_count": 51,
   "metadata": {},
   "outputs": [
    {
     "data": {
      "text/plain": [
       "<matplotlib.text.Text at 0x10fd05650>"
      ]
     },
     "execution_count": 51,
     "metadata": {},
     "output_type": "execute_result"
    },
    {
     "data": {
      "image/png": "[encoded data removed]",
      "text/plain": [
       "<matplotlib.figure.Figure at 0x1100bf390>"
      ]
     },
     "metadata": {},
     "output_type": "display_data"
    }
   ],
   "source": [
    "plt.plot(steps, errors_3, color='red', linewidth=1)\n",
    "plt.xlabel('Iteration')\n",
    "plt.ylabel('Quadratic error')"
   ]
  },
  {
   "cell_type": "markdown",
   "metadata": {},
   "source": [
    "## Comparando los resultados con los obtenidos con SciKit Learn"
   ]
  },
  {
   "cell_type": "code",
   "execution_count": 53,
   "metadata": {},
   "outputs": [
    {
     "name": "stdout",
     "output_type": "stream",
     "text": [
      "[ 32.99430718] [[ 17.56421416]]\n",
      "[ 33.37703993  17.55983765]\n"
     ]
    }
   ],
   "source": [
    "linReg = LinearRegression()\n",
    "linReg.fit(X_train_3,Y_train_3)\n",
    "print linReg.intercept_,linReg.coef_\n",
    "print W_final_3"
   ]
  },
  {
   "cell_type": "code",
   "execution_count": null,
   "metadata": {
    "collapsed": true
   },
   "outputs": [],
   "source": []
  }
 ],
 "metadata": {
  "kernelspec": {
   "display_name": "Python 2",
   "language": "python",
   "name": "python2"
  },
  "language_info": {
   "codemirror_mode": {
    "name": "ipython",
    "version": 2
   },
   "file_extension": ".py",
   "mimetype": "text/x-python",
   "name": "python",
   "nbconvert_exporter": "python",
   "pygments_lexer": "ipython2",
   "version": "2.7.10"
  }
 },
 "nbformat": 4,
 "nbformat_minor": 2
}
